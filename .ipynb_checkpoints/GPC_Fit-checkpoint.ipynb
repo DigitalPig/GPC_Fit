{
 "metadata": {
  "name": "",
  "signature": "sha256:9ba86adb26c1c2bf0de06eb2ab62dae91e01fb3fe4a13df8011413e8de1065b0"
 },
 "nbformat": 3,
 "nbformat_minor": 0,
 "worksheets": [
  {
   "cells": [
    {
     "cell_type": "code",
     "collapsed": false,
     "input": [
      "%matplotlib inline\n",
      "import numpy as np\n",
      "from lmfit.models import GaussianModel\n",
      "import sys\n",
      "import matplotlib.pyplot as plt\n",
      "import os\n",
      "from scipy import fftpack\n"
     ],
     "language": "python",
     "metadata": {},
     "outputs": [],
     "prompt_number": 27
    },
    {
     "cell_type": "code",
     "collapsed": false,
     "input": [
      "#os.chdir('C:\\\\Users\\\\zhil\\\\Documents\\\\ZQ_Programs\\\\Coding')\n",
      "os.chdir('C:\\\\Users\\\\zhil\\\\Documents\\\\Coding')\n",
      "os.getcwd()"
     ],
     "language": "python",
     "metadata": {},
     "outputs": [
      {
       "metadata": {},
       "output_type": "pyout",
       "prompt_number": 28,
       "text": [
        "'C:\\\\Users\\\\zhil\\\\Documents\\\\Coding'"
       ]
      }
     ],
     "prompt_number": 28
    },
    {
     "cell_type": "code",
     "collapsed": false,
     "input": [
      "dat = np.loadtxt(open(\"87708.csv\",\"rb\"),delimiter=\",\",skiprows=1)\n",
      "x = dat[:, 0]\n",
      "y = dat[:, 1]"
     ],
     "language": "python",
     "metadata": {},
     "outputs": [],
     "prompt_number": 29
    },
    {
     "cell_type": "code",
     "collapsed": false,
     "input": [
      "\n",
      "# Get the code from https://stackoverflow.com/questions/20618804/how-to-smooth-a-curve-in-the-right-way\n",
      "\n",
      "\n",
      "# The problem now is how to find the initial parameters for peak fit.\n",
      "y1 = np.diff(y, 1)\n",
      "y1_fft = fftpack.rfft(y1)\n",
      "y1_freq = fftpack.rfftfreq(len(y1),x[3]-x[2])\n",
      "\n",
      "spectrum = y1_fft **2\n",
      "cutoff_idx = spectrum < (spectrum.max()/5)\n",
      "y1_fft_filtered = y1_fft.copy()\n",
      "y1_fft_filtered[cutoff_idx] = 0\n",
      "y1_filtered = fftpack.irfft(y1_fft_filtered)\n",
      "\n",
      "\n",
      "\n",
      "y2 = np.diff(y, 2)\n",
      "y2_fft = fftpack.rfft(y2)\n",
      "y2_freq = fftpack.rfftfreq(len(y2),x[3]-x[2])\n",
      "\n",
      "spectrum = y2_fft **2\n",
      "cutoff_idx = spectrum < (spectrum.max()/5)\n",
      "y2_fft_filtered = y2_fft.copy()\n",
      "y2_fft_filtered[cutoff_idx] = 0\n",
      "y2_filtered = fftpack.irfft(y2_fft_filtered)\n",
      "\n",
      "\n",
      "\n",
      "# The next step is to find out the zero points for 1st and 2nd degree of differentiation...\n",
      "start = 15. # later would be a user-input term for the start of peak recognization\n",
      "end = 30.   # later would be a user-input term for the end of peak recognization\n",
      "x_start = np.where(x==start)[0]\n",
      "x_end = np.where(x==end)[0]\n",
      "peak_location = []\n",
      "peak_inflection_left = []\n",
      "peak_inflection_right = []\n",
      "amp = []\n",
      "del_loc = []\n",
      "previous = start\n",
      "for i in range(x_start,x_end-1):\n",
      "    if (y1_filtered[i]*y1_filtered[i+1] < sys.float_info.epsilon):\n",
      "        if (x[i+1]-previous > 1.):\n",
      "            peak_location.append(x[i+1])\n",
      "            amp.append(y[i+1])\n",
      "            previous = x[i+1]\n",
      "        continue\n",
      "    if (y2_filtered[i-1]*y2_filtered[i] < sys.float_info.epsilon):\n",
      "        if (y2_filtered[i-1] > sys.float_info.epsilon):\n",
      "            peak_inflection_left.append(x[i+2])\n",
      "        else:\n",
      "            peak_inflection_right.append(x[i+2])\n",
      "# Then, I need to clean the peak location data\n",
      "\n",
      "\n",
      "print('peak locations are: {0}'.format(peak_location))\n",
      "print('peak left inflections are: {0}'.format(peak_inflection_left))\n",
      "print('peak right inflections are: {0}'.format(peak_inflection_right))\n",
      "print('peak amplitudes are: {0}'.format(amp))\n",
      "peaks = []\n",
      "\n",
      "\n"
     ],
     "language": "python",
     "metadata": {},
     "outputs": [
      {
       "output_type": "stream",
       "stream": "stdout",
       "text": [
        "peak locations are: [16.5, 20.683330000000002, 22.866669999999999, 24.316669999999998, 27.41667]\n",
        "peak left inflections are: [19.449999999999999, 23.616669999999999, 27.283329999999999]\n",
        "peak right inflections are: [15.75, 21.633330000000001, 25.366669999999999]\n",
        "peak amplitudes are: [-2.1204260000000001, 237.59999999999999, 118.0838, 126.87909999999999, 11.880000000000001]\n"
       ]
      }
     ],
     "prompt_number": 30
    },
    {
     "cell_type": "code",
     "collapsed": false,
     "input": [
      "# Iterate for a peak location/width/amplitude\n",
      "def add_peak_info(p_loc, p_amp, p_left, p_right, p_num):\n",
      "    '''\n",
      "    This is the function to add the peak information to the p_list dictionary object\n",
      "    Usage:\n",
      "    peak = add_peak_info(p_loc, p_amp, p_left, p_right, index, p_num)\n",
      "    '''\n",
      "    peak_name = 'g' + chr(p_num) + '_'\n",
      "    peak_location = peak_name + 'center'\n",
      "    peak_width = peak_name + 'sigma'\n",
      "    peak_amp = peak_name + 'amplitude'\n",
      "    peak = dict(zip([peak_name,peak_location,peak_width,peak_amp],[p_num,p_loc,p_right-p_left,p_amp]))\n",
      "    return peak\n",
      "\n",
      "\n",
      "num = 0\n",
      "for i in range(len(peak_inflection_left)):\n",
      "    left = peak_inflection_left[i]\n",
      "    for j in range(len(peak_inflection_right)):\n",
      "        if (peak_inflection_right[j] > left):\n",
      "            right = peak_inflection_right[j]\n",
      "            for k in range(len(peak_location)):\n",
      "                if ((left <= peak_location[k]) and (peak_location[k] <= right)):\n",
      "                    num += 1\n",
      "                    print('num is {0}'.format(num))\n",
      "                    peaks.append(add_peak_info(peak_location[k],amp[k],left,right,num)) # call the function to add peak info to the dictionary\n",
      "                    peak_location.pop(k)\n",
      "                    peak_inflection_left.pop(i)\n",
      "                    break\n",
      "\n",
      "                    \n",
      "plt.subplot(3,1,1).plot(x,y)\n",
      "plt.subplot(3,1,2).plot(x[1:],y1_filtered)\n",
      "plt.subplot(3,1,3).plot(x[2:],y2_filtered)\n",
      "print(peaks) \n",
      "   \n"
     ],
     "language": "python",
     "metadata": {},
     "outputs": [
      {
       "output_type": "stream",
       "stream": "stdout",
       "text": [
        "num is 1\n",
        "num is 2\n"
       ]
      },
      {
       "ename": "IndexError",
       "evalue": "list index out of range",
       "output_type": "pyerr",
       "traceback": [
        "\u001b[1;31m---------------------------------------------------------------------------\u001b[0m\n\u001b[1;31mIndexError\u001b[0m                                Traceback (most recent call last)",
        "\u001b[1;32m<ipython-input-31-48529cc311c5>\u001b[0m in \u001b[0;36m<module>\u001b[1;34m()\u001b[0m\n\u001b[0;32m     16\u001b[0m \u001b[0mnum\u001b[0m \u001b[1;33m=\u001b[0m \u001b[1;36m0\u001b[0m\u001b[1;33m\u001b[0m\u001b[0m\n\u001b[0;32m     17\u001b[0m \u001b[1;32mfor\u001b[0m \u001b[0mi\u001b[0m \u001b[1;32min\u001b[0m \u001b[0mrange\u001b[0m\u001b[1;33m(\u001b[0m\u001b[0mlen\u001b[0m\u001b[1;33m(\u001b[0m\u001b[0mpeak_inflection_left\u001b[0m\u001b[1;33m)\u001b[0m\u001b[1;33m)\u001b[0m\u001b[1;33m:\u001b[0m\u001b[1;33m\u001b[0m\u001b[0m\n\u001b[1;32m---> 18\u001b[1;33m     \u001b[0mleft\u001b[0m \u001b[1;33m=\u001b[0m \u001b[0mpeak_inflection_left\u001b[0m\u001b[1;33m[\u001b[0m\u001b[0mi\u001b[0m\u001b[1;33m]\u001b[0m\u001b[1;33m\u001b[0m\u001b[0m\n\u001b[0m\u001b[0;32m     19\u001b[0m     \u001b[1;32mfor\u001b[0m \u001b[0mj\u001b[0m \u001b[1;32min\u001b[0m \u001b[0mrange\u001b[0m\u001b[1;33m(\u001b[0m\u001b[0mlen\u001b[0m\u001b[1;33m(\u001b[0m\u001b[0mpeak_inflection_right\u001b[0m\u001b[1;33m)\u001b[0m\u001b[1;33m)\u001b[0m\u001b[1;33m:\u001b[0m\u001b[1;33m\u001b[0m\u001b[0m\n\u001b[0;32m     20\u001b[0m         \u001b[1;32mif\u001b[0m \u001b[1;33m(\u001b[0m\u001b[0mpeak_inflection_right\u001b[0m\u001b[1;33m[\u001b[0m\u001b[0mj\u001b[0m\u001b[1;33m]\u001b[0m \u001b[1;33m>\u001b[0m \u001b[0mleft\u001b[0m\u001b[1;33m)\u001b[0m\u001b[1;33m:\u001b[0m\u001b[1;33m\u001b[0m\u001b[0m\n",
        "\u001b[1;31mIndexError\u001b[0m: list index out of range"
       ]
      }
     ],
     "prompt_number": 31
    },
    {
     "cell_type": "code",
     "collapsed": false,
     "input": [
      "gauss1  = GaussianModel(prefix='g1_')\n",
      "pars = gauss1.make_params()\n",
      "\n",
      "pars['g1_center'].set(20, min=19, max=21)\n",
      "pars['g1_sigma'].set(2, min=1)\n",
      "pars['g1_amplitude'].set(250, min=10)\n",
      "\n",
      "gauss2  = GaussianModel(prefix='g2_')\n",
      "\n",
      "pars.update(gauss2.make_params())\n",
      "\n",
      "pars['g2_center'].set(25, min=24, max=26)\n",
      "pars['g2_sigma'].set(2, min=1)\n",
      "pars['g2_amplitude'].set(120, min=10)\n",
      "\n",
      "gauss3  = GaussianModel(prefix='g3_')\n",
      "\n",
      "pars.update(gauss3.make_params())\n",
      "pars['g3_center'].set(33, min=30, max=45)\n",
      "pars['g3_sigma'].set(2, min=0.5)\n",
      "pars['g3_amplitude'].set(1000, min=10)\n",
      "mod = gauss1 + gauss2 + gauss3\n",
      "\n",
      "\n",
      "plt.plot(x, y)\n",
      "\n",
      "out = mod.fit(y, pars, x=x)\n",
      "\n",
      "print(out.fit_report(min_correl=0.5))\n",
      "print(out.best_values)\n",
      "fitted_val = out.best_values\n",
      "\n",
      "def gaussian (x,A,mu,sigma):\n",
      "    '''\n",
      "    This is the function to build the matrix to plot the individual peak\n",
      "    \n",
      "    Usage: y = gaussian (x, A, mu, sigma)\n",
      "    where x is the data (ndarray object); A, mu and sigma is amplitude, mean and standard deviation in \n",
      "    f(x; A, \\mu, \\sigma) = \\frac{A}{\\sigma\\sqrt{2\\pi}} e^{[{-{(x-\\mu)^2}/{{2\\sigma}^2}}]}\n",
      "    '''\n",
      "    res = A/(sigma*np.sqrt(2*np.pi))*np.exp(-(x-mu)**2/(2*sigma**2))\n",
      "    return res\n",
      "yp1 = gaussian(x,fitted_val['g1_amplitude'],fitted_val['g1_center'],fitted_val['g1_sigma'])\n",
      "yp2 = gaussian(x,fitted_val['g2_amplitude'],fitted_val['g2_center'],fitted_val['g2_sigma'])\n",
      "yp3 = gaussian(x,fitted_val['g3_amplitude'],fitted_val['g3_center'],fitted_val['g3_sigma'])\n",
      "\n",
      "plt.plot(x, out.best_fit, 'r-')\n",
      "plt.plot(x,yp1,'--',x,yp2,'--',x,yp3,'--')\n",
      "plt.show()"
     ],
     "language": "python",
     "metadata": {},
     "outputs": [
      {
       "output_type": "stream",
       "stream": "stdout",
       "text": [
        "[[Model]]\n",
        " Composite Model:\n",
        "    gaussian(prefix='g1_')\n",
        "    gaussian(prefix='g2_')\n",
        "    gaussian(prefix='g3_')\n",
        "[[Fit Statistics]]\n",
        "    # function evals   = 145\n",
        "    # data points      = 2700\n",
        "    # variables        = 9\n",
        "    chi-square         = 418176.195\n",
        "    reduced chi-square = 155.398\n",
        "[[Variables]]\n",
        "    g1_amplitude:   680.203006 +/- 10.01270 (1.47%) (init= 250)\n",
        "    g1_center:      20.6114244 +/- 0.017305 (0.08%) (init= 20)\n",
        "    g1_fwhm:        2.76675107 +/- 0.032979 (1.19%)  == '2.3548200*g1_sigma'\n",
        "    g1_sigma:       1.17493102 +/- 0.014005 (1.19%) (init= 2)\n",
        "    g2_amplitude:   437.357484 +/- 10.34104 (2.36%) (init= 120)\n",
        "    g2_center:      24.0941021 +/- 0.036993 (0.15%) (init= 25)\n",
        "    g2_fwhm:        3.32287891 +/- 0.075914 (2.28%)  == '2.3548200*g2_sigma'\n",
        "    g2_sigma:       1.41109678 +/- 0.032238 (2.28%) (init= 2)\n",
        "    g3_amplitude:   1035.62012 +/- 2.684563 (0.26%) (init= 1000)\n",
        "    g3_center:      32.9404099 +/- 0.001566 (0.00%) (init= 33)\n",
        "    g3_fwhm:        1.23229574 +/- 0.003688 (0.30%)  == '2.3548200*g3_sigma'\n",
        "    g3_sigma:       0.52330783 +/- 0.001566 (0.30%) (init= 2)\n",
        "[[Correlations]] (unreported correlations are <  0.500)\n",
        "    C(g2_amplitude, g2_sigma)    =  0.894 \n",
        "    C(g1_amplitude, g1_sigma)    =  0.870 \n",
        "    C(g1_amplitude, g2_center)   =  0.863 \n",
        "    C(g1_center, g2_center)      =  0.838 \n",
        "    C(g1_amplitude, g1_center)   =  0.811 \n",
        "    C(g1_sigma, g2_center)       =  0.776 \n",
        "    C(g1_center, g1_sigma)       =  0.714 \n",
        "    C(g3_amplitude, g3_sigma)    =  0.577 \n",
        "{'g3_center': 32.94040993092986, 'g2_center': 24.094102105198701, 'g3_amplitude': 1035.6201211957341, 'g2_amplitude': 437.35748478142295, 'g1_sigma': 1.1749310255060752, 'g2_sigma': 1.4110967796814378, 'g3_sigma': 0.52330783057202912, 'g1_amplitude': 680.20300617841133, 'g1_center': 20.611424407238211}\n"
       ]
      },
      {
       "metadata": {},
       "output_type": "display_data",
       "png": "[encoded data removed]",
       "text": [
        "<matplotlib.figure.Figure at 0x90aa4a8>"
       ]
      }
     ],
     "prompt_number": 27
    },
    {
     "cell_type": "code",
     "collapsed": false,
     "input": [],
     "language": "python",
     "metadata": {},
     "outputs": [],
     "prompt_number": 7
    }
   ],
   "metadata": {}
  }
 ]
}