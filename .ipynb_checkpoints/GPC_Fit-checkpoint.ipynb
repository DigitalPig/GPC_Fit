{
 "metadata": {
  "name": "",
  "signature": "sha256:36e51d54ea339c2b3b6c6db3eff75565e6a792e247d61e919ecc32b5f5784b3e"
 },
 "nbformat": 3,
 "nbformat_minor": 0,
 "worksheets": [
  {
   "cells": [
    {
     "cell_type": "code",
     "collapsed": false,
     "input": [
      "%matplotlib inline\n",
      "import numpy as np\n",
      "import sys\n",
      "import matplotlib.pyplot as plt\n",
      "import os\n",
      "from scipy import fftpack, stats\n",
      "from lmfit.models import GaussianModel\n"
     ],
     "language": "python",
     "metadata": {},
     "outputs": [],
     "prompt_number": 1
    },
    {
     "cell_type": "code",
     "collapsed": false,
     "input": [
      "#os.chdir('C:\\\\Users\\\\zhil\\\\Documents\\\\ZQ_Programs\\\\Coding')\n",
      "if (sys.platform != 'linux'):\n",
      "    os.chdir('C:\\\\Users\\\\zhil\\\\Documents\\\\Coding')\n",
      "os.getcwd()"
     ],
     "language": "python",
     "metadata": {},
     "outputs": [
      {
       "metadata": {},
       "output_type": "pyout",
       "prompt_number": 2,
       "text": [
        "'/home/digitalpig/Coding/GPC_Fit'"
       ]
      }
     ],
     "prompt_number": 2
    },
    {
     "cell_type": "code",
     "collapsed": false,
     "input": [
      "#dat = np.loadtxt(open(\"ZHIL1669.arw\",\"rb\"),delimiter=\"\\t\",skiprows=1)\n",
      "# Empower ARW file does not follow the line end convention in either Linux or Windows way, need to convert\n",
      "\n",
      "infile = 'ZHIL1669.arw'\n",
      "#outfile = infile + '-fixed'\n",
      "#with open(infile, 'rb') as f, open(outfile, 'wb') as g:\n",
      "#    content = f.read()\n",
      "#    g.write(content.replace(b'\\r', b'\\r\\n'))\n",
      "#os.rename(outfile, infile)\n",
      "\n",
      "dat = np.loadtxt(open(infile,\"rb\"),delimiter=\"\\t\",skiprows=1)\n",
      "x = dat[:, 0]\n",
      "y = dat[:, 1]"
     ],
     "language": "python",
     "metadata": {},
     "outputs": [],
     "prompt_number": 3
    },
    {
     "cell_type": "code",
     "collapsed": false,
     "input": [
      "# I need to do the linear regression first to get rid of baseline drifting.\n",
      "bl_start = 1.\n",
      "bl_end = 15.\n",
      "\n",
      "ibl_start = np.where(x==bl_start)[0]\n",
      "ibl_end = np.where(x==bl_end)[0]\n",
      "slope, intercept, r_value, p_value, std_err = stats.linregress(x[ibl_start:ibl_end],y[ibl_start:ibl_end])\n",
      "print('the R-sqaure of baseline fitting is: {0:.4}'.format(r_value))\n",
      "y_drifting = slope * x + intercept\n",
      "y = (y - y_drifting)\n",
      "plt.plot(x,y)\n"
     ],
     "language": "python",
     "metadata": {},
     "outputs": [
      {
       "output_type": "stream",
       "stream": "stdout",
       "text": [
        "the R-sqaure of baseline fitting is: -0.9999\n"
       ]
      },
      {
       "metadata": {},
       "output_type": "pyout",
       "prompt_number": 4,
       "text": [
        "[<matplotlib.lines.Line2D at 0x7f4e06900d68>]"
       ]
      },
      {
       "metadata": {},
       "output_type": "display_data",
       "png": "[encoded data removed]",
       "text": [
        "<matplotlib.figure.Figure at 0x7f4e089d6d30>"
       ]
      }
     ],
     "prompt_number": 4
    },
    {
     "cell_type": "code",
     "collapsed": false,
     "input": [
      "\n",
      "# Get the code from https://stackoverflow.com/questions/20618804/how-to-smooth-a-curve-in-the-right-way\n",
      "\n",
      "\n",
      "# The problem now is how to find the initial parameters for peak fit.\n",
      "y1 = np.diff(y, 1)\n",
      "y1_fft = fftpack.rfft(y1)\n",
      "y1_freq = fftpack.rfftfreq(len(y1),x[3]-x[2])\n",
      "\n",
      "spectrum = y1_fft **2\n",
      "cutoff_idx = spectrum < (spectrum.max()/5)\n",
      "y1_fft_filtered = y1_fft.copy()\n",
      "y1_fft_filtered[cutoff_idx] = 0\n",
      "y1_filtered = fftpack.irfft(y1_fft_filtered)\n",
      "\n",
      "\n",
      "\n",
      "y2 = np.diff(y, 2)\n",
      "y2_fft = fftpack.rfft(y2)\n",
      "y2_freq = fftpack.rfftfreq(len(y2),x[3]-x[2])\n",
      "\n",
      "spectrum = y2_fft **2\n",
      "cutoff_idx = spectrum < (spectrum.max()/5)\n",
      "y2_fft_filtered = y2_fft.copy()\n",
      "y2_fft_filtered[cutoff_idx] = 0\n",
      "y2_filtered = fftpack.irfft(y2_fft_filtered)\n",
      "\n",
      "\n",
      "\n",
      "# The next step is to find out the zero points for 1st and 2nd degree of differentiation...\n",
      "start = 17. # later would be a user-input term for the start of peak recognization\n",
      "end = 32.   # later would be a user-input term for the end of peak recognization\n",
      "x_start = np.where(x==start)[0]\n",
      "x_end = np.where(x==end)[0]\n",
      "peak_location = []\n",
      "peak_inflection_left = []\n",
      "peak_inflection_right = []\n",
      "amp = []\n",
      "amp_threshold = 20\n",
      "del_loc = []\n",
      "previous = start\n",
      "for i in range(x_start,x_end-1):\n",
      "    if (y1[i]*y1[i+1] < sys.float_info.epsilon):  # Found that it is better not to smooth\n",
      "        if (x[i]-previous > 1.) and (y[i] > amp_threshold):\n",
      "            peak_location.append(x[i])\n",
      "            amp.append(y[i])\n",
      "            previous = x[i]\n",
      "        continue\n",
      "    if (y2_filtered[i-1]*y2_filtered[i] < sys.float_info.epsilon):\n",
      "        if (y2_filtered[i-1] > sys.float_info.epsilon):\n",
      "            peak_inflection_left.append(x[i+2])\n",
      "        else:\n",
      "            peak_inflection_right.append(x[i+2])\n",
      "# Then, I need to clean the peak location data\n",
      "\n",
      "\n",
      "print('peak locations are: {0}'.format(peak_location))\n",
      "print('peak left inflections are: {0}'.format(peak_inflection_left))\n",
      "print('peak right inflections are: {0}'.format(peak_inflection_right))\n",
      "print('peak amplitudes are: {0}'.format(amp))\n",
      "peaks = []\n",
      "\n",
      "\n"
     ],
     "language": "python",
     "metadata": {},
     "outputs": [
      {
       "output_type": "stream",
       "stream": "stdout",
       "text": [
        "peak locations are: [24.183330000000002, 25.883330000000001, 27.16667]\n",
        "peak left inflections are: [18.233329999999999, 19.83333, 21.600000000000001, 22.966670000000001, 23.850000000000001, 25.08333, 26.08333, 27.449999999999999, 28.800000000000001, 30.066669999999998, 30.866669999999999]\n",
        "peak right inflections are: [19.016670000000001, 20.733329999999999, 22.350000000000001, 23.216670000000001, 24.533329999999999, 25.483329999999999, 26.766670000000001, 28.133330000000001, 29.449999999999999, 30.616669999999999, 31.383330000000001]\n",
        "peak amplitudes are: [82.906165619884092, 60.383919152870675, 39.964311549119486]\n"
       ]
      }
     ],
     "prompt_number": 5
    },
    {
     "cell_type": "code",
     "collapsed": false,
     "input": [
      "# Iterate for a peak location/width/amplitude\n",
      "def add_peak_info(p_loc, p_amp, p_left, p_right, p_num):\n",
      "    '''\n",
      "    This is the function to add the peak information to the p_list dictionary object\n",
      "    Usage:\n",
      "    peak = add_peak_info(p_loc, p_amp, p_left, p_right, index, p_num)\n",
      "    '''\n",
      "    peak_name = 'g' + str(p_num) + '_'\n",
      "    peak_location = peak_name + 'center'\n",
      "    peak_width = peak_name + 'sigma'\n",
      "    peak_amp = peak_name + 'amplitude'\n",
      "    peak = dict(zip([peak_name,peak_location,peak_width,peak_amp],[p_num,p_loc,p_right-p_left,p_amp]))\n",
      "    return peak\n",
      "\n",
      "\n",
      "num = 0\n",
      "\n",
      "#TODO: Here is the last break should let the circle go to the next i circle (looking for next left inflection)\n",
      "try:\n",
      "    for i in range(len(peak_inflection_left)):\n",
      "        left = peak_inflection_left[i]\n",
      "        for j in range(len(peak_inflection_right)):\n",
      "            if (peak_inflection_right[j] > left):\n",
      "                right = peak_inflection_right[j]\n",
      "                for k in range(len(peak_location)):\n",
      "                    if ((left <= peak_location[k]) and (peak_location[k] <= right)):\n",
      "                        num += 1\n",
      "                        print('num is {0}'.format(num))\n",
      "                        peaks.append(add_peak_info(peak_location[k],amp[k],left,right,num)) # call the function to add peak info to the dictionary\n",
      "                        peak_location.pop(k)\n",
      "                        amp.pop(k)\n",
      "                        peak_inflection_left.pop(i)\n",
      "                        peak_inflection_right.pop(j)\n",
      "                        break\n",
      "                peak_inflection_right.pop(j)\n",
      "        peak_inflection_right.pop(j)\n",
      "    peak_inflection_left.pop(i)\n",
      "except IndexError:\n",
      "    pass\n",
      "                    \n",
      "\n",
      "for i in range(1, num+1):\n",
      "    name = 'g' + str(i) + '_'\n",
      "    x2 = peaks[i-1][name+'center']\n",
      "    y2 = peaks[i-1][name+'amplitude']\n",
      "    displace = peaks[i-1][name+'sigma']\n",
      "    print('name is {0}'.format(name))\n",
      "    plt.plot((x2,x2),(0,y2),'-')\n",
      "#    plt.plot((x2-displace,x2-displace),(0,y2),'--')\n",
      "    plt.plot((x2+displace,x2+displace),(0,y2),'--')\n",
      "\n",
      "plt.plot(x[x_start:x_end],y[x_start:x_end])\n",
      "plt.show()\n",
      "\n",
      "print(peaks) \n",
      "   \n"
     ],
     "language": "python",
     "metadata": {},
     "outputs": [
      {
       "output_type": "stream",
       "stream": "stdout",
       "text": [
        "num is 1\n",
        "num is 2\n",
        "num is 3\n",
        "name is g1_\n",
        "name is g2_\n",
        "name is g3_"
       ]
      },
      {
       "output_type": "stream",
       "stream": "stdout",
       "text": [
        "\n"
       ]
      },
      {
       "metadata": {},
       "output_type": "display_data",
       "png": "[encoded data removed]",
       "text": [
        "<matplotlib.figure.Figure at 0x7f4e08947dd8>"
       ]
      },
      {
       "output_type": "stream",
       "stream": "stdout",
       "text": [
        "[{'g1_amplitude': 82.906165619884092, 'g1_': 1, 'g1_center': 24.183330000000002, 'g1_sigma': 6.3000000000000007}, {'g2_': 2, 'g2_amplitude': 60.383919152870675, 'g2_sigma': 9.9000000000000021, 'g2_center': 25.883330000000001}, {'g3_': 3, 'g3_center': 27.16667, 'g3_sigma': 13.150000000000002, 'g3_amplitude': 39.964311549119486}]\n"
       ]
      }
     ],
     "prompt_number": 6
    },
    {
     "cell_type": "code",
     "collapsed": false,
     "input": [
      "gauss1  = GaussianModel(prefix='g1_')\n",
      "pars = gauss1.make_params()\n",
      "\n",
      "pars['g1_center'].set(24, min=22, max=26)\n",
      "pars['g1_sigma'].set(3, min=1)\n",
      "pars['g1_amplitude'].set(82, min=10)\n",
      "\n",
      "gauss2  = GaussianModel(prefix='g2_')\n",
      "\n",
      "pars.update(gauss2.make_params())\n",
      "\n",
      "pars['g2_center'].set(26, min=24, max=28)\n",
      "pars['g2_sigma'].set(3, min=1)\n",
      "pars['g2_amplitude'].set(60, min=20)\n",
      "\n",
      "gauss3  = GaussianModel(prefix='g3_')\n",
      "\n",
      "pars.update(gauss3.make_params())\n",
      "pars['g3_center'].set(27, min=25, max=29)\n",
      "pars['g3_sigma'].set(0.5, min=0.1)\n",
      "pars['g3_amplitude'].set(40, min=20)\n",
      "mod = gauss1 + gauss2 + gauss3\n",
      "\n",
      "\n",
      "\n",
      "#out = mod.fit(y, pars, x=x)\n",
      "out = mod.fit(y[x_start:x_end], pars, x=x[x_start:x_end])\n",
      "print(out.fit_report(min_correl=0.5))\n",
      "\n",
      "comps = out.eval_components(x=x[x_start:x_end])\n",
      "\n",
      "plt.plot(x[x_start:x_end],y[x_start:x_end])\n",
      "plt.plot(x[x_start:x_end], out.best_fit, 'r-')\n",
      "plt.plot(x[x_start:x_end],comps['g1_'],'--',x[x_start:x_end],comps['g2_'],'--',x[x_start:x_end],comps['g3_'],'--')\n",
      "plt.show()\n"
     ],
     "language": "python",
     "metadata": {},
     "outputs": [
      {
       "output_type": "stream",
       "stream": "stdout",
       "text": [
        "[[Model]]\n",
        "    ((Model(gaussian, prefix='g1_') + Model(gaussian, prefix='g2_')) + Model(gaussian, prefix='g3_'))\n",
        "[[Fit Statistics]]\n",
        "    # function evals   = 291\n",
        "    # data points      = 900\n",
        "    # variables        = 9\n",
        "    chi-square         = 6868.485\n",
        "    reduced chi-square = 7.709\n",
        "[[Variables]]\n",
        "    g1_amplitude:   119.302267 +/- 49.47960 (41.47%) (init= 82)\n",
        "    g1_center:      26         +/- 0.157574 (0.61%) (init= 24)\n",
        "    g1_fwhm:        6.76629624 +/- 0.344863 (5.10%)  == '2.3548200*g1_sigma'\n",
        "    g1_sigma:       2.87338150 +/- 0.146450 (5.10%) (init= 3)\n",
        "    g2_amplitude:   360.104406 +/- 48.46471 (13.46%) (init= 60)\n",
        "    g2_center:      24         +/- 0.021607 (0.09%) (init= 26)\n",
        "    g2_fwhm:        4.75694439 +/- 0.137228 (2.88%)  == '2.3548200*g2_sigma'\n",
        "    g2_sigma:       2.02008832 +/- 0.058275 (2.88%) (init= 3)\n",
        "    g3_amplitude:   36.8603138 +/- 1.747415 (4.74%) (init= 40)\n",
        "    g3_center:      28.0235651 +/- 0.010712 (0.04%) (init= 27)\n",
        "    g3_fwhm:        1.24153484 +/- 0.037227 (3.00%)  == '2.3548200*g3_sigma'\n",
        "    g3_sigma:       0.52723131 +/- 0.015809 (3.00%) (init= 0.5)\n",
        "[[Correlations]] (unreported correlations are <  0.500)\n",
        "    C(g2_amplitude, g2_sigma)    =  0.988 \n",
        "    C(g1_amplitude, g1_center)   =  0.979 \n",
        "    C(g3_amplitude, g3_sigma)    =  0.851 \n",
        "    C(g1_amplitude, g2_center)   =  0.777 \n",
        "    C(g1_center, g2_center)      =  0.647 \n",
        "    C(g2_amplitude, g3_amplitude)  =  0.628 \n",
        "    C(g2_sigma, g3_amplitude)    =  0.588 \n"
       ]
      },
      {
       "metadata": {},
       "output_type": "display_data",
       "png": "[encoded data removed]",
       "text": [
        "<matplotlib.figure.Figure at 0x7f4e068a6358>"
       ]
      }
     ],
     "prompt_number": 14
    },
    {
     "cell_type": "code",
     "collapsed": false,
     "input": [],
     "language": "python",
     "metadata": {},
     "outputs": []
    }
   ],
   "metadata": {}
  }
 ]
}